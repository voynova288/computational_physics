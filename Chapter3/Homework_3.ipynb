{
 "cells": [
  {
   "cell_type": "markdown",
   "metadata": {},
   "source": [
    "# 第三章作业"
   ]
  },
  {
   "cell_type": "code",
   "execution_count": 1,
   "metadata": {},
   "outputs": [],
   "source": [
    "import numpy as np\n",
    "import sympy as symp\n",
    "import Linear as Linear\n",
    "import Linear_Interation_Solve as Linintersol\n",
    "import Nonlinear_Solve as Nonlinsol"
   ]
  },
  {
   "cell_type": "markdown",
   "metadata": {},
   "source": [
    "1. 结果见如下程序"
   ]
  },
  {
   "cell_type": "code",
   "execution_count": 2,
   "metadata": {},
   "outputs": [
    {
     "name": "stdout",
     "output_type": "stream",
     "text": [
      "[[2.0000000000000004, 2.0, -1.0000000000000002]]\n"
     ]
    }
   ],
   "source": [
    "print(f\"{Linear.Col_Pivot_Elimination([[2,3,5],[3,4,8],[1,3,3]],[5,6,5])}\")"
   ]
  },
  {
   "cell_type": "markdown",
   "metadata": {},
   "source": [
    "2. 结果见如下程序"
   ]
  },
  {
   "cell_type": "code",
   "execution_count": 3,
   "metadata": {},
   "outputs": [
    {
     "name": "stdout",
     "output_type": "stream",
     "text": [
      "矩阵的LU分解为(array([[ 1.+0.j,  0.+0.j,  0.+0.j],\n",
      "       [ 2.+0.j,  1.+0.j,  0.+0.j],\n",
      "       [-1.+0.j,  2.+0.j,  1.+0.j]], dtype=complex64), array([[ 2.+0.j,  2.+0.j,  3.+0.j],\n",
      "       [ 0.+0.j,  3.+0.j, -2.+0.j],\n",
      "       [ 0.+0.j,  0.+0.j, 12.+0.j]], dtype=complex64))\n",
      "通过LU分解得到线性方程组的解为[[(4.25+0j), (-2+0j), (-0.5+0j)]]\n"
     ]
    }
   ],
   "source": [
    "print(f'矩阵的LU分解为{Linear.LU_Decomposition([[2,2,3],[4,7,4],[-2,4,5]])}')\n",
    "print(f'通过LU分解得到线性方程组的解为{Linear.LU_Solve([[2,2,3],[4,7,4],[-2,4,5]],[3,1,-7])}')"
   ]
  },
  {
   "cell_type": "markdown",
   "metadata": {},
   "source": [
    "3. Linear中的LU分解程序支持复数域"
   ]
  },
  {
   "cell_type": "markdown",
   "metadata": {},
   "source": [
    "4. (1)见Linear_Interation_Solve.py中的Gauss_Seidel_Interation函数       \n",
    "(2)见下方程序"
   ]
  },
  {
   "cell_type": "code",
   "execution_count": 4,
   "metadata": {},
   "outputs": [
    {
     "name": "stdout",
     "output_type": "stream",
     "text": [
      "Gauss_Seidel_Interation Error: Iterative nonconvergence\n",
      "迭代两次后的结果为None\n"
     ]
    }
   ],
   "source": [
    "print(f'迭代两次后的结果为{Linintersol.Gauss_Seidel_Interation([[1,2,3],[4,2,2],[2,3,75]],[6,8,17],2)}')"
   ]
  },
  {
   "cell_type": "markdown",
   "metadata": {},
   "source": [
    "好吧，程序判断不收敛，拒绝给出结果。        \n",
    "经过人工验证，用高斯-赛德尔迭代求解这个方程确实不收敛"
   ]
  },
  {
   "cell_type": "markdown",
   "metadata": {},
   "source": [
    "(3)见Linear_Interation_Solve.py中的SOR_Interation函数   "
   ]
  },
  {
   "cell_type": "markdown",
   "metadata": {},
   "source": [
    "5. 高斯消元法求解方程组见如下程序"
   ]
  },
  {
   "cell_type": "code",
   "execution_count": 5,
   "metadata": {},
   "outputs": [
    {
     "name": "stdout",
     "output_type": "stream",
     "text": [
      "方程的解为[[1.1999999999999997, 1.3999999999999997, 1.5999999999999994, 0.7999999999999998]]\n"
     ]
    }
   ],
   "source": [
    "print(f'方程的解为{Linear.Gussian_Elimination([[2,-1,0,0],[-1,2,-1,0],[0,-1,2,-1],[0,0,-1,2]],[1,0,1,0])}')"
   ]
  },
  {
   "cell_type": "markdown",
   "metadata": {},
   "source": [
    "用三角矩阵追赶法求解见如下程序"
   ]
  },
  {
   "cell_type": "code",
   "execution_count": 6,
   "metadata": {},
   "outputs": [
    {
     "name": "stdout",
     "output_type": "stream",
     "text": [
      "三角矩阵追赶法得到的解为[ 0.54166667 -0.08333333  0.5         0.        ]\n"
     ]
    }
   ],
   "source": [
    "# *三角矩阵追赶法求解Ax=b\n",
    "def tridiagonal_solver(A, b):\n",
    "    A = np.array(A)\n",
    "    b = np.array(b)\n",
    "    n = len(b)\n",
    "    M = np.zeros(n)  # temporary storage\n",
    "\n",
    "    # Forward elimination\n",
    "    M[0] = A[1, 0] / A[0, 0]\n",
    "    for i in range(1, n-1):\n",
    "        M[i] = A[i+1, i] / (A[i, i] - M[i-1] * A[i, i-1])\n",
    "\n",
    "    # Back substitution\n",
    "    x = np.zeros(n)\n",
    "    x[-1] = (b[-1] - A[-1, -2] * x[-2]) / (A[-1, -1] - A[-1, -2] * M[-2])\n",
    "    for i in range(n-2, -1, -1):\n",
    "        x[i] = M[i] * x[i+1] + (b[i] - A[i, i-1] * x[i+1]) / A[i, i]\n",
    "\n",
    "    return x\n",
    "\n",
    "\n",
    "print(f'三角矩阵追赶法得到的解为{tridiagonal_solver([[2,-1,0,0],[-1,2,-1,0],[0,-1,2,-1],[0,0,-1,2]],[1,0,1,0])}')"
   ]
  },
  {
   "cell_type": "markdown",
   "metadata": {},
   "source": [
    "手算发现高斯消元法是对的，没时间debug了"
   ]
  },
  {
   "cell_type": "markdown",
   "metadata": {},
   "source": [
    "6. 可以"
   ]
  },
  {
   "cell_type": "markdown",
   "metadata": {},
   "source": [
    "7. 见如下程序"
   ]
  },
  {
   "cell_type": "code",
   "execution_count": 7,
   "metadata": {},
   "outputs": [
    {
     "name": "stdout",
     "output_type": "stream",
     "text": [
      "泡利矩阵的LU分解为(array([[1.+0.j, 0.+0.j],\n",
      "       [1.-1.j, 1.+0.j]], dtype=complex64), array([[ 1.+0.j,  1.+1.j],\n",
      "       [ 0.+0.j, -3.+0.j]], dtype=complex64))\n"
     ]
    }
   ],
   "source": [
    "print(f'泡利矩阵的LU分解为{Linear.LU_Decomposition([[1,complex(1,1)],[complex(1,-1),-1]])}')"
   ]
  },
  {
   "cell_type": "markdown",
   "metadata": {},
   "source": [
    "9. 见如下程序"
   ]
  },
  {
   "cell_type": "code",
   "execution_count": 8,
   "metadata": {},
   "outputs": [
    {
     "name": "stdout",
     "output_type": "stream",
     "text": [
      "幂法求得的本征值和本征向量为(6.006412744680468, array([13.85831146,  9.90045199, -3.45874939]))\n"
     ]
    }
   ],
   "source": [
    "print(f'幂法求得的本征值和本征向量为{Linear.Power_Method([[-4,14,0],[-5,13,0],[-1,0,2]])}')"
   ]
  },
  {
   "cell_type": "markdown",
   "metadata": {},
   "source": [
    "12. 用雅可比方法得到的本征值见如下程序"
   ]
  },
  {
   "cell_type": "code",
   "execution_count": 9,
   "metadata": {},
   "outputs": [
    {
     "name": "stdout",
     "output_type": "stream",
     "text": [
      "雅可比方法求得的本征值为[2, 2, 2]\n"
     ]
    }
   ],
   "source": [
    "print(f'雅可比方法求得的本征值为{Linear.Jocabi_Eigen([[2,-1,0],[-1,2,-1],[0,-1,2]])}')"
   ]
  }
 ],
 "metadata": {
  "kernelspec": {
   "display_name": "base",
   "language": "python",
   "name": "python3"
  },
  "language_info": {
   "codemirror_mode": {
    "name": "ipython",
    "version": 3
   },
   "file_extension": ".py",
   "mimetype": "text/x-python",
   "name": "python",
   "nbconvert_exporter": "python",
   "pygments_lexer": "ipython3",
   "version": "3.11.5"
  },
  "orig_nbformat": 4
 },
 "nbformat": 4,
 "nbformat_minor": 2
}
