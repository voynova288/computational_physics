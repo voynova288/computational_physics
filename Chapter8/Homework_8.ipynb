{
 "cells": [
  {
   "cell_type": "markdown",
   "metadata": {},
   "source": [
    "# 第八章作业"
   ]
  },
  {
   "cell_type": "markdown",
   "metadata": {},
   "source": [
    "1. 分子动力学流程图如下图所示"
   ]
  },
  {
   "cell_type": "markdown",
   "metadata": {},
   "source": [
    "<img src=\"分子动力学模拟.png\" width = 50%>"
   ]
  },
  {
   "cell_type": "markdown",
   "metadata": {},
   "source": [
    "以下是分子动力学模拟的伪代码"
   ]
  },
  {
   "cell_type": "markdown",
   "metadata": {},
   "source": [
    "`initialize-particles()`    \n",
    "`initialize-parameters()`   \n",
    "`for t = 0 to total-simulation-time with time-step:`    \n",
    "$\\qquad$`calculate-forces()`    \n",
    "$\\qquad$`update-velocities()`   \n",
    "$\\qquad$`apply-boundary-conditions()`   \n",
    "$\\qquad$`update-positions()`    \n",
    "$\\qquad$`if t:`     \n",
    "$\\qquad\\qquad$`collect-data()`  \n",
    "$\\qquad$`end if`    \n",
    "`end for`   \n",
    "`analyze-results()`"
   ]
  },
  {
   "cell_type": "markdown",
   "metadata": {},
   "source": [
    "2. 分子动力学必须用辛算法的原因"
   ]
  },
  {
   "cell_type": "markdown",
   "metadata": {},
   "source": [
    "分子动力学需要遵循能量守恒和时间可逆，辛算法恰好可以保证这两点。而且辛算法效率较高、稳定性高"
   ]
  },
  {
   "cell_type": "markdown",
   "metadata": {},
   "source": []
  }
 ],
 "metadata": {
  "kernelspec": {
   "display_name": "base",
   "language": "python",
   "name": "python3"
  },
  "language_info": {
   "codemirror_mode": {
    "name": "ipython",
    "version": 3
   },
   "file_extension": ".py",
   "mimetype": "text/x-python",
   "name": "python",
   "nbconvert_exporter": "python",
   "pygments_lexer": "ipython3",
   "version": "3.11.5"
  },
  "orig_nbformat": 4
 },
 "nbformat": 4,
 "nbformat_minor": 2
}
