{
 "cells": [
  {
   "cell_type": "markdown",
   "metadata": {},
   "source": [
    "# FPU模型的分子动力学模拟\n",
    "FPU问题的一般模型为\n",
    "\\begin{equation}\n",
    "    F = k\\Delta x + \\alpha \\Delta {x^2} + \\beta \\Delta {x^3}\n",
    "\\end{equation}\n",
    "本文档使用Verlet算法进行模拟，假设无量纲化后\n",
    "\\begin{equation}\n",
    "    {\\ddot x_n} = k\\left( {{x_{n + 1}} - {x_n}} \\right) + \\alpha {\\left( {{x_{n + 1}} - {x_n}} \\right)^2} + \\beta {\\left( {{x_{n + 1}} - {x_n}} \\right)^3} - k\\left( {{x_n} - {x_{n - 1}}} \\right) - \\alpha {\\left( {{x_n} - {x_{n - 1}}} \\right)^2} - \\beta {\\left( {{x_n} - {x_{n - 1}}} \\right)^3}\n",
    "\\end{equation}"
   ]
  }
 ],
 "metadata": {
  "kernelspec": {
   "display_name": "base",
   "language": "python",
   "name": "python3"
  },
  "language_info": {
   "codemirror_mode": {
    "name": "ipython",
    "version": 3
   },
   "file_extension": ".py",
   "mimetype": "text/x-python",
   "name": "python",
   "nbconvert_exporter": "python",
   "pygments_lexer": "ipython3",
   "version": "3.11.5"
  },
  "orig_nbformat": 4
 },
 "nbformat": 4,
 "nbformat_minor": 2
}
