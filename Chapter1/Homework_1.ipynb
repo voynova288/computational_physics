{
 "cells": [
  {
   "cell_type": "markdown",
   "metadata": {},
   "source": [
    "# 第一章作业"
   ]
  },
  {
   "cell_type": "markdown",
   "metadata": {},
   "source": [
    "1. 我认为python更好用"
   ]
  },
  {
   "cell_type": "markdown",
   "metadata": {},
   "source": [
    "2. 误差是指真实值与计算值之间的差值   \n",
    "    稳定性是指初始条件的微小变化对结果的影响是微小的\n",
    "    "
   ]
  },
  {
   "cell_type": "markdown",
   "metadata": {},
   "source": [
    "3. 参见如下程序"
   ]
  },
  {
   "cell_type": "code",
   "execution_count": 1,
   "metadata": {},
   "outputs": [
    {
     "name": "stdout",
     "output_type": "stream",
     "text": [
      "程序运行时间为：0.017004s\n"
     ]
    }
   ],
   "source": [
    "from time import time\n",
    "\n",
    "\n",
    "def sum_first_n(n):\n",
    "    total = 0\n",
    "    for i in range(1, n+1):\n",
    "        total += i\n",
    "    return total\n",
    "\n",
    "\n",
    "start_time2 = time()\n",
    "sum_first_n(100000)\n",
    "end_time2 = time()\n",
    "\n",
    "time_cost2 = end_time2 - start_time2\n",
    "print(\"程序运行时间为：{:.6f}s\".format(time_cost2))\n"
   ]
  },
  {
   "cell_type": "markdown",
   "metadata": {},
   "source": [
    "4. 程序如下"
   ]
  },
  {
   "cell_type": "code",
   "execution_count": 2,
   "metadata": {},
   "outputs": [
    {
     "name": "stdout",
     "output_type": "stream",
     "text": [
      "[(-c + sqrt(-12*c + (d + 12)**2))/(2*c), (-d - sqrt(-12*c + (d + 12)**2) - 12)/(2*c)]\n"
     ]
    }
   ],
   "source": [
    "from sympy import symbols, Symbol\n",
    "from sympy import sympify, sqrt, Pow\n",
    "\n",
    "\n",
    "#求解二次方程ax^2+bx+c=0\n",
    "def Qua_Equ_Sol(a, b, c):\n",
    "    Cofficients = [a, b, c]\n",
    "    if all(isinstance(Element, (int, float, complex, Symbol)) for Element in Cofficients):\n",
    "        return [(-b + sqrt(Pow(b, 2) - 4*a*c))/(2*a), (-b - sqrt(Pow(b, 2) - 4*a*c))/(2*a)]\n",
    "    else:\n",
    "        Symbols_Cofficients = []\n",
    "        for Element in Cofficients:\n",
    "            if isinstance(Element, (int, float, complex, Symbol)):\n",
    "                Symbols_Cofficients.append(Element)\n",
    "            elif isinstance(Element, str):\n",
    "                if Element.isalpha():\n",
    "                    Symbols_Cofficients.append(symbols(Element))\n",
    "                else:\n",
    "                    Symbols_Cofficients.append(sympify(Element))\n",
    "        aa = Symbols_Cofficients[0]\n",
    "        bb = Symbols_Cofficients[1]\n",
    "        cc = Symbols_Cofficients[2]\n",
    "        return [(-aa + sqrt(Pow(bb, 2) - 4*aa*cc))/(2*aa), (-bb - sqrt(Pow(bb, 2) - 4*aa*cc))/(2*aa)]    \n",
    "\n",
    "\n",
    "c = symbols('c')\n",
    "sol = Qua_Equ_Sol(c, 'd+12', 3)\n",
    "print(f\"{sol}\")"
   ]
  },
  {
   "cell_type": "markdown",
   "metadata": {},
   "source": [
    "5. $x_1$有五位，$x_2$有四位，$y_1$有五位，$y_2$有三位"
   ]
  },
  {
   "cell_type": "markdown",
   "metadata": {},
   "source": [
    "6. 代码如下"
   ]
  },
  {
   "cell_type": "code",
   "execution_count": 3,
   "metadata": {},
   "outputs": [
    {
     "name": "stdout",
     "output_type": "stream",
     "text": [
      "2467.7548809539244\n"
     ]
    }
   ],
   "source": [
    "def Cumpute_Poly(x, array):  #计算a_0*x^8+a_1*x^16+a_2*x^32的程序，array为多项式参数的数组[a0,a1,a2]\n",
    "    return (x**8)*(array[0]+x**8*(array[1]+x**16*array[2]))\n",
    "\n",
    "\n",
    "y = Cumpute_Poly(1.24, [14, 1.5, 2.4])\n",
    "print(f'{y}')"
   ]
  },
  {
   "cell_type": "markdown",
   "metadata": {},
   "source": [
    "7. 分别有两位、三位、四位有效数字，相对误差限由下面代码给出"
   ]
  },
  {
   "cell_type": "code",
   "execution_count": 6,
   "metadata": {},
   "outputs": [
    {
     "name": "stdout",
     "output_type": "stream",
     "text": [
      "2.72\n",
      "0.006725508837105614,0.0030467144253912685,0.00010367889601972718\n"
     ]
    }
   ],
   "source": [
    "import numpy as np\n",
    "\n",
    "e = np.exp(1)\n",
    "print(f'{round(e, 2)}')\n",
    "print(f'{(e-2.7)/e},{(e-2.71)/e},{(e-2.718)/e}')"
   ]
  },
  {
   "cell_type": "markdown",
   "metadata": {},
   "source": [
    "8. 误差为$1cm$，相对误差为"
   ]
  },
  {
   "cell_type": "code",
   "execution_count": 7,
   "metadata": {},
   "outputs": [
    {
     "data": {
      "text/plain": [
       "0.0010482180293501049"
      ]
     },
     "execution_count": 7,
     "metadata": {},
     "output_type": "execute_result"
    }
   ],
   "source": [
    "1/954"
   ]
  },
  {
   "cell_type": "markdown",
   "metadata": {},
   "source": [
    "9. $cond(f) = \\frac{{{E_r}(f)}}{{{E_r}\\left( x \\right)}} = \\frac{{\\frac{{\\Delta f}}{f}}}{{\\frac{{\\Delta x}}{x}}} = x\\frac{{f'\\left( x \\right)}}{{f\\left( x \\right)}}$"
   ]
  },
  {
   "cell_type": "markdown",
   "metadata": {},
   "source": [
    "10. 直接计算不难算"
   ]
  },
  {
   "cell_type": "markdown",
   "metadata": {},
   "source": [
    "11. 薛定谔方程为 $i\\hbar \\frac{{\\partial \\psi }}{{\\partial t}} =  - \\frac{{{\\hbar ^2}}}{{2m}}{\\nabla ^2}\\psi  + V\\psi $     \n",
    "令 $\\hbar=1,m=1$，方程变成$i\\frac{{\\partial \\psi }}{{\\partial t}} =  - \\frac{1}{2}{\\nabla ^2}\\psi  + V\\psi $"
   ]
  },
  {
   "cell_type": "markdown",
   "metadata": {},
   "source": [
    "12. 令$\\mu_0=1,{\\varepsilon _0} = 1$，麦克斯韦方程组变成        \n",
    "$\\begin{array}{l}\n",
    "\\nabla  \\cdot \\vec E = \\rho \\quad \\nabla  \\times \\vec E =  - \\frac{{\\partial \\vec B}}{{\\partial t}}\\\\\n",
    "\\nabla  \\cdot \\vec B = 0\\quad \\nabla  \\times \\vec B = \\vec J + \\frac{{\\partial \\vec E}}{{\\partial t}}\n",
    "\\end{array}$"
   ]
  }
 ],
 "metadata": {
  "kernelspec": {
   "display_name": "base",
   "language": "python",
   "name": "python3"
  },
  "language_info": {
   "codemirror_mode": {
    "name": "ipython",
    "version": 3
   },
   "file_extension": ".py",
   "mimetype": "text/x-python",
   "name": "python",
   "nbconvert_exporter": "python",
   "pygments_lexer": "ipython3",
   "version": "3.11.5"
  },
  "orig_nbformat": 4
 },
 "nbformat": 4,
 "nbformat_minor": 2
}
