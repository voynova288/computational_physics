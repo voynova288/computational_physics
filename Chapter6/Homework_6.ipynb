{
 "cells": [
  {
   "cell_type": "code",
   "execution_count": 2,
   "metadata": {},
   "outputs": [],
   "source": [
    "import numpy as np\n",
    "import matplotlib.pyplot as plt\n",
    "from scipy.integrate import quad"
   ]
  },
  {
   "cell_type": "markdown",
   "metadata": {},
   "source": [
    "# 第六章作业"
   ]
  },
  {
   "cell_type": "markdown",
   "metadata": {},
   "source": [
    "1. 这两个积分方程都可以用退化核法求解   \n",
    "(1) $φ(x) = e^{2x} + \\int_0^x e^{t−x}φ(t)dt$\n",
    "\n",
    "    $φ(x) = e^{2x} + ce^{-x}$，其中$c = \\int_0^x e^tφ(t)dt$\n",
    "\n",
    "    将$\\phi$代入t,得到\n",
    "\n",
    "    $c = \\int_0^x e^t(e^{2t}+ce^{-t})dt = \\int_0^x e^{3t}dt +c \\int_0^x e^t dt$\n",
    "\n",
    "    解得\n",
    "\n",
    "    $c = \\dfrac{\\frac{1}{3}e^{3x}-\\frac{4}{3}}{1-e^x}$\n",
    "\n",
    "    代入$\\phi$\n",
    "\n",
    "    $\\phi(x) = e^{2x} + \\dfrac{\\frac{1}{3}e^{3x}-\\frac{4}{3}}{1-e^x}e^{-x}$     \n",
    "(2)$\\phi(x) = x +\\frac{1}{5} \\int_0^x t \\phi(t)dt x = x+\\frac{1}{5}c x$\n",
    "\n",
    "    $c = \\int_0^x t \\phi(t)dt = \\int_0^x t(t+\\frac{1}{5}ct) dt$\n",
    "\n",
    "    $ c = \\dfrac{x^3}{3} + \\frac{1}{5}c\\dfrac{x^3}{3}$\n",
    "\n",
    "    $ c = \\dfrac{1}{\\frac{3}{x^3} -\\frac{1}{5}}$\n",
    "\n",
    "    $ \\phi(x) = x+\\dfrac{\\frac{1}{5}}{\\frac{3}{x^3} -\\frac{1}{5}}$\n",
    "\n",
    "代码如下所示"
   ]
  },
  {
   "cell_type": "code",
   "execution_count": 1,
   "metadata": {},
   "outputs": [
    {
     "ename": "NameError",
     "evalue": "name 'np' is not defined",
     "output_type": "error",
     "traceback": [
      "\u001b[1;31m---------------------------------------------------------------------------\u001b[0m",
      "\u001b[1;31mNameError\u001b[0m                                 Traceback (most recent call last)",
      "Cell \u001b[1;32mIn[1], line 5\u001b[0m\n\u001b[0;32m      2\u001b[0m     \u001b[39mreturn\u001b[39;00m np\u001b[39m.\u001b[39mexp(\u001b[39m2\u001b[39m\u001b[39m*\u001b[39mx) \u001b[39m+\u001b[39m ((\u001b[39m1\u001b[39m\u001b[39m/\u001b[39m\u001b[39m3\u001b[39m)\u001b[39m*\u001b[39mnp\u001b[39m.\u001b[39mexp(\u001b[39m3\u001b[39m\u001b[39m*\u001b[39mx) \u001b[39m-\u001b[39m \u001b[39m4\u001b[39m\u001b[39m/\u001b[39m\u001b[39m3\u001b[39m)\u001b[39m/\u001b[39m(\u001b[39m1\u001b[39m\u001b[39m-\u001b[39mnp\u001b[39m.\u001b[39mexp(x))\u001b[39m*\u001b[39mnp\u001b[39m.\u001b[39mexp(\u001b[39m-\u001b[39mx)\n\u001b[0;32m      4\u001b[0m \u001b[39m# 生成 x 值\u001b[39;00m\n\u001b[1;32m----> 5\u001b[0m x \u001b[39m=\u001b[39m np\u001b[39m.\u001b[39mlinspace(\u001b[39m-\u001b[39m\u001b[39m2\u001b[39m, \u001b[39m2\u001b[39m, \u001b[39m400\u001b[39m)\n\u001b[0;32m      6\u001b[0m \u001b[39m# 计算对应的 y 值\u001b[39;00m\n\u001b[0;32m      7\u001b[0m y \u001b[39m=\u001b[39m phi(x)\n",
      "\u001b[1;31mNameError\u001b[0m: name 'np' is not defined"
     ]
    }
   ],
   "source": [
    "def phi(x):\n",
    "    return np.exp(2*x) + ((1/3)*np.exp(3*x) - 4/3)/(1-np.exp(x))*np.exp(-x)\n",
    "\n",
    "# 生成 x 值\n",
    "x = np.linspace(-2, 2, 400)\n",
    "# 计算对应的 y 值\n",
    "y = phi(x)\n",
    "\n",
    "# 绘制函数图像\n",
    "plt.plot(x, y, label=r'$\\phi(x) = e^{2x} + \\dfrac{\\frac{1}{3}e^{3x}-\\frac{4}{3}}{1-e^x}e^{-x}$')\n",
    "plt.xlabel('x')\n",
    "plt.ylabel(r'$\\phi(x)$')\n",
    "plt.title('Graph of the function')\n",
    "plt.legend()\n",
    "#plt.grid(True)\n",
    "plt.show()\n",
    "\n",
    "def non_degenerate_kernel(t, x):\n",
    "    return np.exp(t - x)\n",
    "\n",
    "def degenerate_kernel(x, t):\n",
    "    return 1\n",
    "\n",
    "#退化核\n",
    "def f(t):\n",
    "    return np.exp(2*t)\n",
    "\n",
    "\n",
    "def integral_equation_solver_degenerate_kernel(non_degenerate_kernel, degenerate_kernel, f, a, b, N):\n",
    "    x = np.linspace(a, b, N)\n",
    "    result = np.zeros_like(x)\n",
    "    for i in range(N):\n",
    "        result[i], _ = quad(lambda t: non_degenerate_kernel(t, x[i]) * f(t), a, x[i]) #数值积分\n",
    "        for j in range(i):\n",
    "            result[i] -= degenerate_kernel(x[i], x[j]) * result[j]\n",
    "    return x, result\n",
    "\n",
    "a = 0\n",
    "b = 2\n",
    "N = 1000\n",
    "x, result = integral_equation_solver_degenerate_kernel(non_degenerate_kernel, degenerate_kernel, f, a, b, N)\n",
    "\n",
    "plt.plot(x, result, label='Numerical Solution')\n",
    "plt.xlabel('x')\n",
    "plt.ylabel('phi(x)')\n",
    "plt.title('Numerical Solution of the Integral Equation')\n",
    "plt.legend()\n",
    "plt.show()"
   ]
  }
 ],
 "metadata": {
  "kernelspec": {
   "display_name": "base",
   "language": "python",
   "name": "python3"
  },
  "language_info": {
   "codemirror_mode": {
    "name": "ipython",
    "version": 3
   },
   "file_extension": ".py",
   "mimetype": "text/x-python",
   "name": "python",
   "nbconvert_exporter": "python",
   "pygments_lexer": "ipython3",
   "version": "3.11.5"
  },
  "orig_nbformat": 4
 },
 "nbformat": 4,
 "nbformat_minor": 2
}
