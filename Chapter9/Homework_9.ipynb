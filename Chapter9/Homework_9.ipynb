{
 "cells": [
  {
   "cell_type": "markdown",
   "metadata": {},
   "source": [
    "# 第九章作业"
   ]
  },
  {
   "cell_type": "code",
   "execution_count": 1,
   "metadata": {},
   "outputs": [],
   "source": [
    "import sympy as symp\n",
    "import Optimize as Opt"
   ]
  },
  {
   "cell_type": "markdown",
   "metadata": {},
   "source": [
    "1-3. 见代码运行结果"
   ]
  },
  {
   "cell_type": "code",
   "execution_count": 4,
   "metadata": {},
   "outputs": [
    {
     "name": "stdout",
     "output_type": "stream",
     "text": [
      "{x1: 4.78193895753117e-12, x2: -7.65110233205207e-15}\n",
      "{x1: 8.00000000000000, x2: 6.00000000000000}\n",
      "{x1: 4.00000000000000, x2: 2.00000000000000}\n"
     ]
    }
   ],
   "source": [
    "x1 = symp.symbols(\"x1\")\n",
    "x2 = symp.symbols(\"x2\")\n",
    "optimize1 = Opt.Local_OPT(\n",
    "    x1**2 + 25 * x2**2, [2, 2], method=\"Deepest_Descent\", accuracy=10 ** (-10)\n",
    ")\n",
    "optimize2 = Opt.Local_OPT(\n",
    "    60 - 10 * x1 - 4 * x2 + x1**2 + x2**2 - x1 * x2, [0, 0], method=\"Newton\"\n",
    ")\n",
    "optimize3 = Opt.Local_OPT((x1 - x2) ** 2 + x2**2 - 4 * x1, [1, 1], method=\"Newton\")\n",
    "\n",
    "print(optimize1)\n",
    "print(optimize2)\n",
    "print(optimize3)"
   ]
  },
  {
   "cell_type": "markdown",
   "metadata": {},
   "source": [
    "4. 流程图和伪代码如下所示"
   ]
  },
  {
   "cell_type": "markdown",
   "metadata": {},
   "source": [
    "<img src=\"模拟退火算法.png\" width = 40%>"
   ]
  },
  {
   "cell_type": "markdown",
   "metadata": {},
   "source": [
    "伪代码如下"
   ]
  },
  {
   "cell_type": "markdown",
   "metadata": {},
   "source": [
    "`currentSolution = problem.randomSolution()`    \n",
    "`temperature = initialTemperature`  \n",
    "`while temperature > 0.01`  \n",
    "$\\qquad$`newSolution = problem.getRandomNeighbor(currentSolution)`  \n",
    "$\\qquad$`energyDelta = problem.getEnergy(newSolution) - problem.getEnergy(currentSolution)`     \n",
    "$\\qquad$`if energyDelta < 0 or random(0, 1) < exp(-energyDelta / temperature)`  \n",
    "$\\qquad\\qquad$`currentSolution = newSolution`   \n",
    "$\\qquad$`temperature = temperature * coolingRate`   \n",
    "`return currentSolution`"
   ]
  },
  {
   "cell_type": "markdown",
   "metadata": {},
   "source": [
    "5. 详见Optimize.py中的AM_Cluster的PSO"
   ]
  }
 ],
 "metadata": {
  "kernelspec": {
   "display_name": "base",
   "language": "python",
   "name": "python3"
  },
  "language_info": {
   "codemirror_mode": {
    "name": "ipython",
    "version": 3
   },
   "file_extension": ".py",
   "mimetype": "text/x-python",
   "name": "python",
   "nbconvert_exporter": "python",
   "pygments_lexer": "ipython3",
   "version": "3.11.5"
  },
  "orig_nbformat": 4
 },
 "nbformat": 4,
 "nbformat_minor": 2
}
